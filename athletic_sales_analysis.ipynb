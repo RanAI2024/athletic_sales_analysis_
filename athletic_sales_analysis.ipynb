{
 "cells": [
  {
   "cell_type": "code",
   "execution_count": 1,
   "metadata": {},
   "outputs": [],
   "source": [
    "# Import Libraries and Dependencies\n",
    "import pandas as pd\n",
    "import matplotlib.pyplot as plt"
   ]
  },
  {
   "cell_type": "markdown",
   "metadata": {},
   "source": [
    "### 1. Combine and Clean the Data\n",
    "#### Import CSVs"
   ]
  },
  {
   "cell_type": "code",
   "execution_count": 2,
   "metadata": {},
   "outputs": [],
   "source": [
    "# Read the CSV files into DataFrames.\n",
    "sales_2020 = pd.read_csv('Resources/athletic_sales_2020.csv')\n",
    "sales_2021 = pd.read_csv('Resources/athletic_sales_2021.csv')"
   ]
  },
  {
   "cell_type": "code",
   "execution_count": 3,
   "metadata": {},
   "outputs": [
    {
     "name": "stdout",
     "output_type": "stream",
     "text": [
      "Sales 2020 Data:\n",
      "      retailer  retailer_id invoice_date     region         state  \\\n",
      "0  Foot Locker      1185732       1/1/20  Northeast      New York   \n",
      "1  Foot Locker      1185732       1/1/20  Northeast  Pennsylvania   \n",
      "2  Foot Locker      1185732       1/1/20  Northeast  Pennsylvania   \n",
      "3  Foot Locker      1185732       1/1/20  Northeast      New York   \n",
      "4  Foot Locker      1185732       1/1/20  Northeast  Pennsylvania   \n",
      "\n",
      "           city                product  price_per_unit  units_sold  \\\n",
      "0      New York  Men's Street Footwear              50        1200   \n",
      "1  Philadelphia        Women's Apparel              68          83   \n",
      "2  Philadelphia        Women's Apparel              75         275   \n",
      "3      New York  Men's Street Footwear              34         384   \n",
      "4  Philadelphia        Women's Apparel              53          83   \n",
      "\n",
      "   total_sales  operating_profit sales_method  \n",
      "0       600000         300000.00     In-store  \n",
      "1         5644           2426.92       Online  \n",
      "2       206250          61875.00       Outlet  \n",
      "3        13056           6789.12       Outlet  \n",
      "4         4399           1407.68       Outlet  \n"
     ]
    }
   ],
   "source": [
    "# Display the 2020 sales DataFrame\n",
    "print(\"Sales 2020 Data:\")\n",
    "print(sales_2020.head())\n",
    "\n"
   ]
  },
  {
   "cell_type": "code",
   "execution_count": 4,
   "metadata": {},
   "outputs": [
    {
     "name": "stdout",
     "output_type": "stream",
     "text": [
      "\n",
      "Sales 2021 Data:\n",
      "    retailer  retailer_id invoice_date   region       state           city  \\\n",
      "0  West Gear      1128299       1/1/21     West  California  San Francisco   \n",
      "1  West Gear      1128299       1/1/21     West  California  San Francisco   \n",
      "2     Kohl's      1189833       1/1/21  Midwest     Montana       Billings   \n",
      "3     Kohl's      1189833       1/1/21  Midwest     Montana       Billings   \n",
      "4  West Gear      1128299       1/1/21     West  California  San Francisco   \n",
      "\n",
      "                   product  price_per_unit  units_sold  total_sales  \\\n",
      "0  Men's Athletic Footwear              65         750       487500   \n",
      "1  Men's Athletic Footwear              51         233        11883   \n",
      "2            Men's Apparel              50         275       137500   \n",
      "3            Men's Apparel              47          77         3619   \n",
      "4  Men's Athletic Footwear              64         225        14400   \n",
      "\n",
      "   operating_profit sales_method  \n",
      "0         121875.00       Outlet  \n",
      "1           3208.41       Outlet  \n",
      "2          82500.00       Outlet  \n",
      "3           2714.25       Online  \n",
      "4           5184.00       Online  \n"
     ]
    }
   ],
   "source": [
    "# Display the 2021 sales DataFrame\n",
    "print(\"\\nSales 2021 Data:\")\n",
    "print(sales_2021.head())"
   ]
  },
  {
   "cell_type": "markdown",
   "metadata": {},
   "source": [
    "#### Check the data types of each DataFrame"
   ]
  },
  {
   "cell_type": "code",
   "execution_count": 5,
   "metadata": {},
   "outputs": [
    {
     "name": "stdout",
     "output_type": "stream",
     "text": [
      "<class 'pandas.core.frame.DataFrame'>\n",
      "RangeIndex: 1297 entries, 0 to 1296\n",
      "Data columns (total 12 columns):\n",
      " #   Column            Non-Null Count  Dtype  \n",
      "---  ------            --------------  -----  \n",
      " 0   retailer          1297 non-null   object \n",
      " 1   retailer_id       1297 non-null   int64  \n",
      " 2   invoice_date      1297 non-null   object \n",
      " 3   region            1297 non-null   object \n",
      " 4   state             1297 non-null   object \n",
      " 5   city              1297 non-null   object \n",
      " 6   product           1297 non-null   object \n",
      " 7   price_per_unit    1297 non-null   int64  \n",
      " 8   units_sold        1297 non-null   int64  \n",
      " 9   total_sales       1297 non-null   int64  \n",
      " 10  operating_profit  1297 non-null   float64\n",
      " 11  sales_method      1297 non-null   object \n",
      "dtypes: float64(1), int64(4), object(7)\n",
      "memory usage: 121.7+ KB\n",
      "None\n"
     ]
    }
   ],
   "source": [
    "# Check the 2020 sales data types.\n",
    "print(sales_2020.info())"
   ]
  },
  {
   "cell_type": "code",
   "execution_count": 6,
   "metadata": {},
   "outputs": [
    {
     "name": "stdout",
     "output_type": "stream",
     "text": [
      "<class 'pandas.core.frame.DataFrame'>\n",
      "RangeIndex: 8346 entries, 0 to 8345\n",
      "Data columns (total 12 columns):\n",
      " #   Column            Non-Null Count  Dtype  \n",
      "---  ------            --------------  -----  \n",
      " 0   retailer          8346 non-null   object \n",
      " 1   retailer_id       8346 non-null   int64  \n",
      " 2   invoice_date      8346 non-null   object \n",
      " 3   region            8346 non-null   object \n",
      " 4   state             8346 non-null   object \n",
      " 5   city              8346 non-null   object \n",
      " 6   product           8346 non-null   object \n",
      " 7   price_per_unit    8346 non-null   int64  \n",
      " 8   units_sold        8346 non-null   int64  \n",
      " 9   total_sales       8346 non-null   int64  \n",
      " 10  operating_profit  8346 non-null   float64\n",
      " 11  sales_method      8346 non-null   object \n",
      "dtypes: float64(1), int64(4), object(7)\n",
      "memory usage: 782.6+ KB\n",
      "None\n"
     ]
    }
   ],
   "source": [
    "# Check the 2021 sales data types.\n",
    "print(sales_2021.info())"
   ]
  },
  {
   "cell_type": "markdown",
   "metadata": {},
   "source": [
    "#### Combine the sales data by rows."
   ]
  },
  {
   "cell_type": "code",
   "execution_count": 7,
   "metadata": {},
   "outputs": [
    {
     "name": "stdout",
     "output_type": "stream",
     "text": [
      "      retailer  retailer_id invoice_date     region         state  \\\n",
      "0  Foot Locker      1185732       1/1/20  Northeast      New York   \n",
      "1  Foot Locker      1185732       1/1/20  Northeast  Pennsylvania   \n",
      "2  Foot Locker      1185732       1/1/20  Northeast  Pennsylvania   \n",
      "3  Foot Locker      1185732       1/1/20  Northeast      New York   \n",
      "4  Foot Locker      1185732       1/1/20  Northeast  Pennsylvania   \n",
      "\n",
      "           city                product  price_per_unit  units_sold  \\\n",
      "0      New York  Men's Street Footwear              50        1200   \n",
      "1  Philadelphia        Women's Apparel              68          83   \n",
      "2  Philadelphia        Women's Apparel              75         275   \n",
      "3      New York  Men's Street Footwear              34         384   \n",
      "4  Philadelphia        Women's Apparel              53          83   \n",
      "\n",
      "   total_sales  operating_profit sales_method  \n",
      "0       600000         300000.00     In-store  \n",
      "1         5644           2426.92       Online  \n",
      "2       206250          61875.00       Outlet  \n",
      "3        13056           6789.12       Outlet  \n",
      "4         4399           1407.68       Outlet  \n",
      "         retailer  retailer_id invoice_date     region         state  \\\n",
      "9638  Foot Locker      1185732     12/31/21  Northeast  Pennsylvania   \n",
      "9639  Foot Locker      1185732     12/31/21  Northeast  Pennsylvania   \n",
      "9640       Amazon      1185732     12/31/21  Northeast         Maine   \n",
      "9641       Amazon      1185732     12/31/21  Northeast         Maine   \n",
      "9642  Foot Locker      1185732     12/31/21  Northeast  Pennsylvania   \n",
      "\n",
      "              city        product  price_per_unit  units_sold  total_sales  \\\n",
      "9638  Philadelphia  Men's Apparel              63          47         2961   \n",
      "9639  Philadelphia  Men's Apparel              46          56         2576   \n",
      "9640      Portland  Men's Apparel              52          36         1872   \n",
      "9641      Portland  Men's Apparel              55         125        68750   \n",
      "9642  Philadelphia  Men's Apparel              70         175       122500   \n",
      "\n",
      "      operating_profit sales_method  \n",
      "9638           1362.06       Online  \n",
      "9639           1004.64       Outlet  \n",
      "9640            692.64       Online  \n",
      "9641          17187.50       Outlet  \n",
      "9642          42875.00       Outlet  \n"
     ]
    }
   ],
   "source": [
    "# Combine the 2020 and 2021 sales DataFrames on the rows and reset the index.\n",
    "combined_sales = pd.concat([sales_2020, sales_2021], ignore_index=True)\n",
    "print(combined_sales.head())\n",
    "print(combined_sales.tail())\n",
    "\n"
   ]
  },
  {
   "cell_type": "code",
   "execution_count": 8,
   "metadata": {},
   "outputs": [
    {
     "name": "stdout",
     "output_type": "stream",
     "text": [
      "retailer            0\n",
      "retailer_id         0\n",
      "invoice_date        0\n",
      "region              0\n",
      "state               0\n",
      "city                0\n",
      "product             0\n",
      "price_per_unit      0\n",
      "units_sold          0\n",
      "total_sales         0\n",
      "operating_profit    0\n",
      "sales_method        0\n",
      "dtype: int64\n"
     ]
    }
   ],
   "source": [
    "# Check if any values are null.\n",
    "null_values = combined_sales.isnull().sum()\n",
    "print(null_values)"
   ]
  },
  {
   "cell_type": "code",
   "execution_count": 9,
   "metadata": {},
   "outputs": [
    {
     "name": "stdout",
     "output_type": "stream",
     "text": [
      "retailer             object\n",
      "retailer_id           int64\n",
      "invoice_date         object\n",
      "region               object\n",
      "state                object\n",
      "city                 object\n",
      "product              object\n",
      "price_per_unit        int64\n",
      "units_sold            int64\n",
      "total_sales           int64\n",
      "operating_profit    float64\n",
      "sales_method         object\n",
      "dtype: object\n"
     ]
    }
   ],
   "source": [
    "# Check the data type of each column\n",
    "data_types = combined_sales.dtypes\n",
    "print(data_types)"
   ]
  },
  {
   "cell_type": "code",
   "execution_count": 10,
   "metadata": {},
   "outputs": [
    {
     "name": "stderr",
     "output_type": "stream",
     "text": [
      "C:\\Users\\rando\\AppData\\Local\\Temp\\ipykernel_3708\\3000282538.py:2: UserWarning: Could not infer format, so each element will be parsed individually, falling back to `dateutil`. To ensure parsing is consistent and as-expected, please specify a format.\n",
      "  sales_2020['invoice_date'] = pd.to_datetime(sales_2020['invoice_date'])\n",
      "C:\\Users\\rando\\AppData\\Local\\Temp\\ipykernel_3708\\3000282538.py:3: UserWarning: Could not infer format, so each element will be parsed individually, falling back to `dateutil`. To ensure parsing is consistent and as-expected, please specify a format.\n",
      "  sales_2021['invoice_date'] = pd.to_datetime(sales_2021['invoice_date'])\n"
     ]
    },
    {
     "data": {
      "image/png": "[encoded data removed]",
      "text/plain": [
       "<Figure size 1200x600 with 1 Axes>"
      ]
     },
     "metadata": {},
     "output_type": "display_data"
    }
   ],
   "source": [
    "# Convert the \"invoice_date\" to a datetime datatype\n",
    "sales_2020['invoice_date'] = pd.to_datetime(sales_2020['invoice_date'])\n",
    "sales_2021['invoice_date'] = pd.to_datetime(sales_2021['invoice_date'])\n",
    "sales_2020.set_index('invoice_date', inplace=True)\n",
    "sales_2021.set_index('invoice_date', inplace=True)\n",
    "monthly_sales_2020 = sales_2020['total_sales'].resample('M').sum()\n",
    "monthly_sales_2021 = sales_2021['total_sales'].resample('M').sum()\n",
    "plt.figure(figsize=(12, 6))\n",
    "plt.plot(monthly_sales_2020, label='2020', marker='o')\n",
    "plt.plot(monthly_sales_2021, label='2021', marker='o')\n",
    "plt.title('Monthly Total Sales for 2020 and 2021')\n",
    "plt.xlabel('Month')\n",
    "plt.ylabel('Total Sales')\n",
    "plt.legend()\n",
    "plt.grid(True)\n",
    "plt.show()"
   ]
  },
  {
   "cell_type": "code",
   "execution_count": 11,
   "metadata": {},
   "outputs": [
    {
     "data": {
      "text/plain": [
       "(retailer             object\n",
       " retailer_id           int64\n",
       " region               object\n",
       " state                object\n",
       " city                 object\n",
       " product              object\n",
       " price_per_unit        int64\n",
       " units_sold            int64\n",
       " total_sales           int64\n",
       " operating_profit    float64\n",
       " sales_method         object\n",
       " dtype: object,\n",
       " retailer             object\n",
       " retailer_id           int64\n",
       " region               object\n",
       " state                object\n",
       " city                 object\n",
       " product              object\n",
       " price_per_unit        int64\n",
       " units_sold            int64\n",
       " total_sales           int64\n",
       " operating_profit    float64\n",
       " sales_method         object\n",
       " dtype: object)"
      ]
     },
     "execution_count": 11,
     "metadata": {},
     "output_type": "execute_result"
    }
   ],
   "source": [
    "# Confirm that the \"invoice_date\" data type has been changed.\n",
    "sales_2020.dtypes, sales_2021.dtypes"
   ]
  },
  {
   "cell_type": "markdown",
   "metadata": {},
   "source": [
    "### 2. Determine which Region Sold the Most Products"
   ]
  },
  {
   "cell_type": "markdown",
   "metadata": {},
   "source": [
    "#### Using `groupby`"
   ]
  },
  {
   "cell_type": "code",
   "execution_count": 12,
   "metadata": {},
   "outputs": [
    {
     "name": "stdout",
     "output_type": "stream",
     "text": [
      "       region           state         city  Total_Products_Sold\n",
      "1   Northeast        New York     New York               111954\n",
      "3       South           Texas      Houston                90322\n",
      "39       West      California  Los Angeles                76384\n",
      "4   Southeast         Florida        Miami                73135\n",
      "35  Southeast  South Carolina   Charleston                72610\n"
     ]
    }
   ],
   "source": [
    "# Show the number products sold for region, state, and city.\n",
    "# Rename the sum to \"Total_Products_Sold\".\n",
    "\n",
    "\n",
    "# Show the top 5 results.\n",
    "total_products_sold_2020 = sales_2020.groupby(['region', 'state', 'city'])['units_sold'].sum().reset_index()\n",
    "total_products_sold_2021 = sales_2021.groupby(['region', 'state', 'city'])['units_sold'].sum().reset_index()\n",
    "total_products_sold_2020.rename(columns={'units_sold': 'Total_Products_Sold'}, inplace=True)\n",
    "total_products_sold_2021.rename(columns={'units_sold': 'Total_Products_Sold'}, inplace=True)\n",
    "combined_products_sold = pd.concat([total_products_sold_2020, total_products_sold_2021])\n",
    "top_5_products_sold = combined_products_sold.sort_values(by='Total_Products_Sold', ascending=False).head(5)\n",
    "print(top_5_products_sold)"
   ]
  },
  {
   "cell_type": "markdown",
   "metadata": {},
   "source": [
    "#### Using `pivot_table`"
   ]
  },
  {
   "cell_type": "code",
   "execution_count": 13,
   "metadata": {},
   "outputs": [
    {
     "name": "stdout",
     "output_type": "stream",
     "text": [
      "       region           state         city  Total_Products_Sold\n",
      "1   Northeast        New York     New York               111954\n",
      "3       South           Texas      Houston                90322\n",
      "39       West      California  Los Angeles                76384\n",
      "4   Southeast         Florida        Miami                73135\n",
      "35  Southeast  South Carolina   Charleston                72610\n"
     ]
    }
   ],
   "source": [
    "# Show the number products sold for region, state, and city.\n",
    "\n",
    "\n",
    "# Rename the \"units_sold\" column to \"Total_Products_Sold\"\n",
    "\n",
    "\n",
    "# Show the top 5 results.\n",
    "total_products_sold_2020 = sales_2020.groupby(['region', 'state', 'city'])['units_sold'].sum().reset_index()\n",
    "total_products_sold_2021 = sales_2021.groupby(['region', 'state', 'city'])['units_sold'].sum().reset_index()\n",
    "total_products_sold_2020.rename(columns={'units_sold': 'Total_Products_Sold'}, inplace=True)\n",
    "total_products_sold_2021.rename(columns={'units_sold': 'Total_Products_Sold'}, inplace=True)\n",
    "combined_products_sold = pd.concat([total_products_sold_2020, total_products_sold_2021])\n",
    "top_5_products_sold = combined_products_sold.sort_values(by='Total_Products_Sold', ascending=False).head(5)\n",
    "print(top_5_products_sold)\n"
   ]
  },
  {
   "cell_type": "markdown",
   "metadata": {},
   "source": [
    "### 3. Determine which Region had the Most Sales"
   ]
  },
  {
   "cell_type": "markdown",
   "metadata": {},
   "source": [
    "#### Using `groupby`"
   ]
  },
  {
   "cell_type": "code",
   "execution_count": 14,
   "metadata": {},
   "outputs": [
    {
     "name": "stdout",
     "output_type": "stream",
     "text": [
      "       region           state        city  Total Sales\n",
      "1   Northeast        New York    New York     39801235\n",
      "4   Southeast         Florida       Miami     31600863\n",
      "35  Southeast  South Carolina  Charleston     29285637\n",
      "31  Southeast         Florida     Orlando     27682851\n",
      "8        West      Washington     Seattle     26330718\n"
     ]
    }
   ],
   "source": [
    "# Show the total sales for the products sold for each region, state, and city.\n",
    "# Rename the \"total_sales\" column to \"Total Sales\"\n",
    "\n",
    "\n",
    "# Show the top 5 results.\n",
    "total_sales_2020 = sales_2020.groupby(['region', 'state', 'city'])['total_sales'].sum().reset_index()\n",
    "total_sales_2021 = sales_2021.groupby(['region', 'state', 'city'])['total_sales'].sum().reset_index()\n",
    "total_sales_2020.rename(columns={'total_sales': 'Total Sales'}, inplace=True)\n",
    "total_sales_2021.rename(columns={'total_sales': 'Total Sales'}, inplace=True)\n",
    "combined_total_sales = pd.concat([total_sales_2020, total_sales_2021])\n",
    "top_5_total_sales = combined_total_sales.sort_values(by='Total Sales', ascending=False).head(5)\n",
    "print(top_5_total_sales)"
   ]
  },
  {
   "cell_type": "markdown",
   "metadata": {},
   "source": [
    "#### Using `pivot_table`"
   ]
  },
  {
   "cell_type": "code",
   "execution_count": 15,
   "metadata": {},
   "outputs": [
    {
     "name": "stdout",
     "output_type": "stream",
     "text": [
      "       region           state        city  Total Sales\n",
      "1   Northeast        New York    New York     39801235\n",
      "4   Southeast         Florida       Miami     31600863\n",
      "35  Southeast  South Carolina  Charleston     29285637\n",
      "31  Southeast         Florida     Orlando     27682851\n",
      "8        West      Washington     Seattle     26330718\n"
     ]
    }
   ],
   "source": [
    "# Show the total sales for the products sold for each region, state, and city.\n",
    "\n",
    "\n",
    "# Optional: Rename the \"total_sales\" column to \"Total Sales\"\n",
    "\n",
    "\n",
    "# Show the top 5 results.\n",
    "total_sales_2020 = sales_2020.groupby(['region', 'state', 'city'])['total_sales'].sum().reset_index()\n",
    "total_sales_2021 = sales_2021.groupby(['region', 'state', 'city'])['total_sales'].sum().reset_index()\n",
    "total_sales_2020.rename(columns={'total_sales': 'Total Sales'}, inplace=True)\n",
    "total_sales_2021.rename(columns={'total_sales': 'Total Sales'}, inplace=True)\n",
    "combined_total_sales = pd.concat([total_sales_2020, total_sales_2021])\n",
    "top_5_total_sales = combined_total_sales.sort_values(by='Total Sales', ascending=False).head(5)\n",
    "print(top_5_total_sales)"
   ]
  },
  {
   "cell_type": "markdown",
   "metadata": {},
   "source": [
    "### 4. Determine which Retailer had the Most Sales"
   ]
  },
  {
   "cell_type": "markdown",
   "metadata": {},
   "source": [
    "#### Using `groupby`"
   ]
  },
  {
   "cell_type": "code",
   "execution_count": 16,
   "metadata": {},
   "outputs": [
    {
     "name": "stdout",
     "output_type": "stream",
     "text": [
      "       region           state        city  Total Sales\n",
      "1   Northeast        New York    New York     39801235\n",
      "4   Southeast         Florida       Miami     31600863\n",
      "35  Southeast  South Carolina  Charleston     29285637\n",
      "31  Southeast         Florida     Orlando     27682851\n",
      "8        West      Washington     Seattle     26330718\n"
     ]
    }
   ],
   "source": [
    "# Show the total sales for the products sold for each retailer, region, state, and city.\n",
    "# Rename the \"total_sales\" column to \"Total Sales\"\n",
    "\n",
    "\n",
    "# Show the top 5 results.\n",
    "combined_total_sales = pd.concat([total_sales_2020, total_sales_2021])\n",
    "top_5_total_sales = combined_total_sales.sort_values(by='Total Sales', ascending=False).head(5)\n",
    "print(top_5_total_sales)"
   ]
  },
  {
   "cell_type": "markdown",
   "metadata": {},
   "source": [
    "#### Using `pivot_table`"
   ]
  },
  {
   "cell_type": "code",
   "execution_count": 17,
   "metadata": {},
   "outputs": [
    {
     "name": "stdout",
     "output_type": "stream",
     "text": [
      "       region           state        city  Total Sales\n",
      "1   Northeast        New York    New York     39801235\n",
      "4   Southeast         Florida       Miami     31600863\n",
      "35  Southeast  South Carolina  Charleston     29285637\n",
      "31  Southeast         Florida     Orlando     27682851\n",
      "8        West      Washington     Seattle     26330718\n"
     ]
    }
   ],
   "source": [
    "# Show the total sales for the products sold for each retailer, region, state, and city.\n",
    "\n",
    "\n",
    "# Optional: Rename the \"total_sales\" column to \"Total Sales\"\n",
    "\n",
    "\n",
    "# Show the top 5 results.\n",
    "combined_total_sales = pd.concat([total_sales_2020, total_sales_2021])\n",
    "top_5_total_sales = combined_total_sales.sort_values(by='Total Sales', ascending=False).head(5)\n",
    "print(top_5_total_sales)"
   ]
  },
  {
   "cell_type": "markdown",
   "metadata": {},
   "source": [
    "### 5. Determine which Retailer Sold the Most Women's Athletic Footwear"
   ]
  },
  {
   "cell_type": "code",
   "execution_count": 18,
   "metadata": {},
   "outputs": [
    {
     "name": "stdout",
     "output_type": "stream",
     "text": [
      "                 retailer  retailer_id     region         state          city  \\\n",
      "invoice_date                                                                    \n",
      "2020-01-04    Foot Locker      1185732  Northeast      New York      New York   \n",
      "2020-01-04    Foot Locker      1185732  Northeast      New York      New York   \n",
      "2020-01-04    Foot Locker      1185732  Northeast      New York      New York   \n",
      "2020-01-05      West Gear      1128299  Northeast  Pennsylvania  Philadelphia   \n",
      "2020-01-05      West Gear      1128299  Northeast  Pennsylvania  Philadelphia   \n",
      "\n",
      "                                product  price_per_unit  units_sold  \\\n",
      "invoice_date                                                          \n",
      "2020-01-04    Women's Athletic Footwear              36         281   \n",
      "2020-01-04    Women's Athletic Footwear              41         247   \n",
      "2020-01-04    Women's Athletic Footwear              45         850   \n",
      "2020-01-05    Women's Athletic Footwear              45         300   \n",
      "2020-01-05    Women's Athletic Footwear              34          90   \n",
      "\n",
      "              total_sales  operating_profit sales_method  \n",
      "invoice_date                                              \n",
      "2020-01-04          10116           3742.92       Outlet  \n",
      "2020-01-04          10127           4658.42       Online  \n",
      "2020-01-04         382500         133875.00     In-store  \n",
      "2020-01-05         135000          47250.00       Outlet  \n",
      "2020-01-05           3060           1254.60       Outlet  \n"
     ]
    }
   ],
   "source": [
    "# Filter the sales data to get the women's athletic footwear sales data.\n",
    "womens_footwear_sales_2020 = sales_2020[sales_2020['product'] == \"Women's Athletic Footwear\"]\n",
    "womens_footwear_sales_2021 = sales_2021[sales_2021['product'] == \"Women's Athletic Footwear\"]\n",
    "womens_footwear_sales_combined = pd.concat([womens_footwear_sales_2020, womens_footwear_sales_2021])\n",
    "print(womens_footwear_sales_combined.head())"
   ]
  },
  {
   "cell_type": "markdown",
   "metadata": {},
   "source": [
    "#### Using `groupby`"
   ]
  },
  {
   "cell_type": "code",
   "execution_count": 19,
   "metadata": {},
   "outputs": [
    {
     "name": "stdout",
     "output_type": "stream",
     "text": [
      "                 retailer  retailer_id     region         state          city  \\\n",
      "invoice_date                                                                    \n",
      "2020-01-04    Foot Locker      1185732  Northeast      New York      New York   \n",
      "2020-01-04    Foot Locker      1185732  Northeast      New York      New York   \n",
      "2020-01-04    Foot Locker      1185732  Northeast      New York      New York   \n",
      "2020-01-05      West Gear      1128299  Northeast  Pennsylvania  Philadelphia   \n",
      "2020-01-05      West Gear      1128299  Northeast  Pennsylvania  Philadelphia   \n",
      "\n",
      "                                product  price_per_unit  units_sold  \\\n",
      "invoice_date                                                          \n",
      "2020-01-04    Women's Athletic Footwear              36         281   \n",
      "2020-01-04    Women's Athletic Footwear              41         247   \n",
      "2020-01-04    Women's Athletic Footwear              45         850   \n",
      "2020-01-05    Women's Athletic Footwear              45         300   \n",
      "2020-01-05    Women's Athletic Footwear              34          90   \n",
      "\n",
      "              total_sales  operating_profit sales_method  \n",
      "invoice_date                                              \n",
      "2020-01-04          10116           3742.92       Outlet  \n",
      "2020-01-04          10127           4658.42       Online  \n",
      "2020-01-04         382500         133875.00     In-store  \n",
      "2020-01-05         135000          47250.00       Outlet  \n",
      "2020-01-05           3060           1254.60       Outlet  \n"
     ]
    }
   ],
   "source": [
    "# Show the total number of women's athletic footwear sold for each retailer, region, state, and city.\n",
    "# Rename the \"units_sold\" column to \"Womens_Footwear_Units_Sold\"\n",
    "\n",
    "\n",
    "# Show the top 5 results.\n",
    "womens_footwear_units_sold = womens_footwear_sales_combined.groupby(['retailer', 'region', 'state', 'city'])['units_sold'].sum().reset_index()\n",
    "womens_footwear_sales_combined = pd.concat([womens_footwear_sales_2020, womens_footwear_sales_2021])\n",
    "womens_footwear_units_sold.rename(columns={'units_sold': 'Womens_Footwear_Units_Sold'}, inplace=True)\n",
    "top_5_womens_footwear_units_sold = womens_footwear_units_sold.sort_values(by='Womens_Footwear_Units_Sold', ascending=False).head(5)\n",
    "print(womens_footwear_sales_combined.head())"
   ]
  },
  {
   "cell_type": "markdown",
   "metadata": {},
   "source": [
    "#### Using `pivot_table`"
   ]
  },
  {
   "cell_type": "code",
   "execution_count": 20,
   "metadata": {},
   "outputs": [
    {
     "name": "stdout",
     "output_type": "stream",
     "text": [
      "                 retailer  retailer_id     region         state          city  \\\n",
      "invoice_date                                                                    \n",
      "2020-01-04    Foot Locker      1185732  Northeast      New York      New York   \n",
      "2020-01-04    Foot Locker      1185732  Northeast      New York      New York   \n",
      "2020-01-04    Foot Locker      1185732  Northeast      New York      New York   \n",
      "2020-01-05      West Gear      1128299  Northeast  Pennsylvania  Philadelphia   \n",
      "2020-01-05      West Gear      1128299  Northeast  Pennsylvania  Philadelphia   \n",
      "\n",
      "                                product  price_per_unit  units_sold  \\\n",
      "invoice_date                                                          \n",
      "2020-01-04    Women's Athletic Footwear              36         281   \n",
      "2020-01-04    Women's Athletic Footwear              41         247   \n",
      "2020-01-04    Women's Athletic Footwear              45         850   \n",
      "2020-01-05    Women's Athletic Footwear              45         300   \n",
      "2020-01-05    Women's Athletic Footwear              34          90   \n",
      "\n",
      "              total_sales  operating_profit sales_method  \n",
      "invoice_date                                              \n",
      "2020-01-04          10116           3742.92       Outlet  \n",
      "2020-01-04          10127           4658.42       Online  \n",
      "2020-01-04         382500         133875.00     In-store  \n",
      "2020-01-05         135000          47250.00       Outlet  \n",
      "2020-01-05           3060           1254.60       Outlet  \n"
     ]
    }
   ],
   "source": [
    "# Show the total number of women's athletic footwear sold for each retailer, region, state, and city.\n",
    "\n",
    "\n",
    "# Rename the \"units_sold\" column to \"Womens_Footwear_Units_Sold\"\n",
    "\n",
    "\n",
    "# Show the top 5 results.\n",
    "top_5_womens_footwear_units_sold = womens_footwear_units_sold.sort_values(by='Womens_Footwear_Units_Sold', ascending=False).head(5)\n",
    "print(womens_footwear_sales_combined.head())"
   ]
  },
  {
   "cell_type": "markdown",
   "metadata": {},
   "source": [
    "### 6. Determine the Day with the Most Women's Athletic Footwear Sales"
   ]
  },
  {
   "cell_type": "code",
   "execution_count": 25,
   "metadata": {},
   "outputs": [
    {
     "data": {
      "text/html": [
       "<div>\n",
       "<style scoped>\n",
       "    .dataframe tbody tr th:only-of-type {\n",
       "        vertical-align: middle;\n",
       "    }\n",
       "\n",
       "    .dataframe tbody tr th {\n",
       "        vertical-align: top;\n",
       "    }\n",
       "\n",
       "    .dataframe thead th {\n",
       "        text-align: right;\n",
       "    }\n",
       "</style>\n",
       "<table border=\"1\" class=\"dataframe\">\n",
       "  <thead>\n",
       "    <tr style=\"text-align: right;\">\n",
       "      <th></th>\n",
       "      <th>Total Sales</th>\n",
       "    </tr>\n",
       "    <tr>\n",
       "      <th>invoice_date</th>\n",
       "      <th></th>\n",
       "    </tr>\n",
       "  </thead>\n",
       "  <tbody>\n",
       "    <tr>\n",
       "      <th>2020-01-01</th>\n",
       "      <td>845141</td>\n",
       "    </tr>\n",
       "    <tr>\n",
       "      <th>2020-01-02</th>\n",
       "      <td>689410</td>\n",
       "    </tr>\n",
       "    <tr>\n",
       "      <th>2020-01-03</th>\n",
       "      <td>632573</td>\n",
       "    </tr>\n",
       "    <tr>\n",
       "      <th>2020-01-04</th>\n",
       "      <td>615080</td>\n",
       "    </tr>\n",
       "    <tr>\n",
       "      <th>2020-01-05</th>\n",
       "      <td>707829</td>\n",
       "    </tr>\n",
       "  </tbody>\n",
       "</table>\n",
       "</div>"
      ],
      "text/plain": [
       "              Total Sales\n",
       "invoice_date             \n",
       "2020-01-01         845141\n",
       "2020-01-02         689410\n",
       "2020-01-03         632573\n",
       "2020-01-04         615080\n",
       "2020-01-05         707829"
      ]
     },
     "execution_count": 25,
     "metadata": {},
     "output_type": "execute_result"
    }
   ],
   "source": [
    "# Create a pivot table with the 'invoice_date' column is the index, and the \"total_sales\" as the values.\n",
    "\n",
    "\n",
    "# Optional: Rename the \"total_sales\" column to \"Total Sales\"\n",
    "\n",
    "\n",
    "# Show the table.\n",
    "pivot_table = sales_data.pivot_table(index='invoice_date', values='total_sales', aggfunc='sum')\n",
    "pivot_table.rename(columns={'total_sales': 'Total Sales'}, inplace=True)\n",
    "pivot_table.head()"
   ]
  },
  {
   "cell_type": "code",
   "execution_count": 26,
   "metadata": {},
   "outputs": [
    {
     "name": "stdout",
     "output_type": "stream",
     "text": [
      "              Total Sales\n",
      "invoice_date             \n",
      "2021-07-16       12261098\n",
      "2021-12-16       10871121\n",
      "2021-06-17       10239903\n",
      "2021-08-17        9517031\n",
      "2021-07-23        7689134\n"
     ]
    }
   ],
   "source": [
    "# Resample the pivot table into daily bins, and get the total sales for each day.\n",
    "\n",
    "\n",
    "# Sort the resampled pivot table in descending order on \"Total Sales\".\n",
    "resampled_pivot_table = pivot_table.resample('D').sum()\n",
    "sorted_pivot_table = resampled_pivot_table.sort_values(by='Total Sales', ascending=False)\n",
    "print(sorted_pivot_table.head())"
   ]
  },
  {
   "cell_type": "markdown",
   "metadata": {},
   "source": [
    "### 7.  Determine the Week with the Most Women's Athletic Footwear Sales"
   ]
  },
  {
   "cell_type": "code",
   "execution_count": 27,
   "metadata": {},
   "outputs": [
    {
     "name": "stdout",
     "output_type": "stream",
     "text": [
      "              Total Sales\n",
      "invoice_date             \n",
      "2021-07-11       26271380\n",
      "2021-07-18       24731702\n",
      "2021-12-19       24698535\n",
      "2021-12-12       23250286\n",
      "2021-08-22       22225401\n"
     ]
    }
   ],
   "source": [
    "# Resample the pivot table into weekly bins, and get the total sales for each week.\n",
    "\n",
    "\n",
    "# Sort the resampled pivot table in descending order on \"Total Sales\".\n",
    "resampled_pivot_table = pivot_table.resample('W').sum()\n",
    "sorted_pivot_table = resampled_pivot_table.sort_values(by='Total Sales', ascending=False)\n",
    "print(sorted_pivot_table.head())"
   ]
  }
 ],
 "metadata": {
  "kernelspec": {
   "display_name": "Python 3 (ipykernel)",
   "language": "python",
   "name": "python3"
  },
  "language_info": {
   "codemirror_mode": {
    "name": "ipython",
    "version": 3
   },
   "file_extension": ".py",
   "mimetype": "text/x-python",
   "name": "python",
   "nbconvert_exporter": "python",
   "pygments_lexer": "ipython3",
   "version": "3.11.7"
  }
 },
 "nbformat": 4,
 "nbformat_minor": 4
}
